{
  "nbformat": 4,
  "nbformat_minor": 0,
  "metadata": {
    "colab": {
      "name": "Trax Startup Guide",
      "provenance": [],
      "collapsed_sections": []
    },
    "kernelspec": {
      "name": "python3",
      "display_name": "Python 3"
    },
    "accelerator": "GPU"
  },
  "cells": [
    {
      "cell_type": "markdown",
      "metadata": {
        "id": "UpDX46RWTaxm",
        "colab_type": "text"
      },
      "source": [
        "# Getting Started with Trax\n",
        "\n",
        "Author: Henry Allen"
      ]
    },
    {
      "cell_type": "markdown",
      "metadata": {
        "colab_type": "text",
        "id": "BIl27504La0G"
      },
      "source": [
        "## Setup"
      ]
    },
    {
      "cell_type": "markdown",
      "metadata": {
        "id": "L7RbBFpeToIA",
        "colab_type": "text"
      },
      "source": [
        "pip install necessary packages"
      ]
    },
    {
      "cell_type": "code",
      "metadata": {
        "id": "TRlhJbURMZC6",
        "colab_type": "code",
        "outputId": "69d7a1d6-458a-4370-8f06-0f6dab772aa2",
        "colab": {
          "base_uri": "https://localhost:8080/",
          "height": 34
        }
      },
      "source": [
        "\n",
        "! pip install -q -U trax\n",
        "! pip install -q tensorflow\n"
      ],
      "execution_count": 1,
      "outputs": [
        {
          "output_type": "stream",
          "text": [
            "\u001b[?25l\r\u001b[K     |█                               | 10kB 34.7MB/s eta 0:00:01\r\u001b[K     |██                              | 20kB 6.3MB/s eta 0:00:01\r\u001b[K     |███▏                            | 30kB 7.8MB/s eta 0:00:01\r\u001b[K     |████▏                           | 40kB 5.9MB/s eta 0:00:01\r\u001b[K     |█████▎                          | 51kB 7.0MB/s eta 0:00:01\r\u001b[K     |██████▎                         | 61kB 8.3MB/s eta 0:00:01\r\u001b[K     |███████▍                        | 71kB 8.6MB/s eta 0:00:01\r\u001b[K     |████████▍                       | 81kB 7.6MB/s eta 0:00:01\r\u001b[K     |█████████▌                      | 92kB 8.4MB/s eta 0:00:01\r\u001b[K     |██████████▌                     | 102kB 9.0MB/s eta 0:00:01\r\u001b[K     |███████████▋                    | 112kB 9.0MB/s eta 0:00:01\r\u001b[K     |████████████▋                   | 122kB 9.0MB/s eta 0:00:01\r\u001b[K     |█████████████▊                  | 133kB 9.0MB/s eta 0:00:01\r\u001b[K     |██████████████▊                 | 143kB 9.0MB/s eta 0:00:01\r\u001b[K     |███████████████▉                | 153kB 9.0MB/s eta 0:00:01\r\u001b[K     |████████████████▉               | 163kB 9.0MB/s eta 0:00:01\r\u001b[K     |██████████████████              | 174kB 9.0MB/s eta 0:00:01\r\u001b[K     |███████████████████             | 184kB 9.0MB/s eta 0:00:01\r\u001b[K     |████████████████████            | 194kB 9.0MB/s eta 0:00:01\r\u001b[K     |█████████████████████           | 204kB 9.0MB/s eta 0:00:01\r\u001b[K     |██████████████████████          | 215kB 9.0MB/s eta 0:00:01\r\u001b[K     |███████████████████████▏        | 225kB 9.0MB/s eta 0:00:01\r\u001b[K     |████████████████████████▏       | 235kB 9.0MB/s eta 0:00:01\r\u001b[K     |█████████████████████████▎      | 245kB 9.0MB/s eta 0:00:01\r\u001b[K     |██████████████████████████▎     | 256kB 9.0MB/s eta 0:00:01\r\u001b[K     |███████████████████████████▍    | 266kB 9.0MB/s eta 0:00:01\r\u001b[K     |████████████████████████████▍   | 276kB 9.0MB/s eta 0:00:01\r\u001b[K     |█████████████████████████████▌  | 286kB 9.0MB/s eta 0:00:01\r\u001b[K     |██████████████████████████████▌ | 296kB 9.0MB/s eta 0:00:01\r\u001b[K     |███████████████████████████████▋| 307kB 9.0MB/s eta 0:00:01\r\u001b[K     |████████████████████████████████| 317kB 9.0MB/s \n",
            "\u001b[?25h"
          ],
          "name": "stdout"
        }
      ]
    },
    {
      "cell_type": "markdown",
      "metadata": {
        "id": "qZUnWHjFTtJi",
        "colab_type": "text"
      },
      "source": [
        "import necessary packages"
      ]
    },
    {
      "cell_type": "code",
      "metadata": {
        "cellView": "both",
        "colab_type": "code",
        "id": "oILRLCWN_16u",
        "colab": {
          "base_uri": "https://localhost:8080/",
          "height": 204
        },
        "outputId": "b7eaa79c-41b2-407d-98a8-63b52d2465ec"
      },
      "source": [
        "#@title\n",
        "# Copyright 2020 Google LLC.\n",
        "\n",
        "# Licensed under the Apache License, Version 2.0 (the \"License\");\n",
        "# you may not use this file except in compliance with the License.\n",
        "# You may obtain a copy of the License at\n",
        "\n",
        "# https://www.apache.org/licenses/LICENSE-2.0\n",
        "\n",
        "# Unless required by applicable law or agreed to in writing, software\n",
        "# distributed under the License is distributed on an \"AS IS\" BASIS,\n",
        "# WITHOUT WARRANTIES OR CONDITIONS OF ANY KIND, either express or implied.\n",
        "# See the License for the specific language governing permissions and\n",
        "# limitations under the License.\n",
        "\n",
        "import os\n",
        "import numpy as np\n",
        "\n",
        "import matplotlib.pyplot as plt\n",
        "%matplotlib inline\n",
        "\n",
        "import trax\n",
        "\n",
        "import trax.layers as tl\n",
        "import pandas as pd\n",
        "import urllib\n",
        "import cv2"
      ],
      "execution_count": 2,
      "outputs": [
        {
          "output_type": "display_data",
          "data": {
            "text/html": [
              "<p style=\"color: red;\">\n",
              "The default version of TensorFlow in Colab will soon switch to TensorFlow 2.x.<br>\n",
              "We recommend you <a href=\"https://www.tensorflow.org/guide/migrate\" target=\"_blank\">upgrade</a> now \n",
              "or ensure your notebook will continue to use TensorFlow 1.x via the <code>%tensorflow_version 1.x</code> magic:\n",
              "<a href=\"https://colab.research.google.com/notebooks/tensorflow_version.ipynb\" target=\"_blank\">more info</a>.</p>\n"
            ],
            "text/plain": [
              "<IPython.core.display.HTML object>"
            ]
          },
          "metadata": {
            "tags": []
          }
        },
        {
          "output_type": "stream",
          "text": [
            "WARNING:tensorflow:\n",
            "The TensorFlow contrib module will not be included in TensorFlow 2.0.\n",
            "For more information, please see:\n",
            "  * https://github.com/tensorflow/community/blob/master/rfcs/20180907-contrib-sunset.md\n",
            "  * https://github.com/tensorflow/addons\n",
            "  * https://github.com/tensorflow/io (for I/O related ops)\n",
            "If you depend on functionality not listed there, please file an issue.\n",
            "\n"
          ],
          "name": "stdout"
        }
      ]
    },
    {
      "cell_type": "markdown",
      "metadata": {
        "id": "cavCsAGygeSB",
        "colab_type": "text"
      },
      "source": [
        "## MNIST Multi-layer Perceptron"
      ]
    },
    {
      "cell_type": "markdown",
      "metadata": {
        "id": "trrxyuMrTv9G",
        "colab_type": "text"
      },
      "source": [
        "This example shows a basic multi-layer perceptron training on the MNIST dataset"
      ]
    },
    {
      "cell_type": "markdown",
      "metadata": {
        "id": "tRiUE9llM7gm",
        "colab_type": "text"
      },
      "source": [
        "### Import mnist training data"
      ]
    },
    {
      "cell_type": "code",
      "metadata": {
        "id": "E6KA0JA_rml1",
        "colab_type": "code",
        "outputId": "85f1d2db-f002-4e5e-bcb8-14d73457a764",
        "colab": {
          "base_uri": "https://localhost:8080/",
          "height": 52
        }
      },
      "source": [
        "data = np.genfromtxt(\"sample_data/mnist_train_small.csv\", delimiter=',')\n",
        "\n",
        "label = data[:, 0]\n",
        "print(label.shape)\n",
        "\n",
        "train = data[:, 1:]\n",
        "print(train.shape)"
      ],
      "execution_count": 0,
      "outputs": [
        {
          "output_type": "stream",
          "text": [
            "(20000,)\n",
            "(20000, 784)\n"
          ],
          "name": "stdout"
        }
      ]
    },
    {
      "cell_type": "markdown",
      "metadata": {
        "colab_type": "text",
        "id": "-LQ89rFFsEdk"
      },
      "source": [
        "### Classifier Setup\n"
      ]
    },
    {
      "cell_type": "markdown",
      "metadata": {
        "id": "lvgIdTKNT8xV",
        "colab_type": "text"
      },
      "source": [
        "Trax trains data on input streams, implemented as iterators."
      ]
    },
    {
      "cell_type": "code",
      "metadata": {
        "colab_type": "code",
        "id": "djTiSLcaNFGa",
        "outputId": "aa1daa92-881e-44bb-d759-2e77db4d78dd",
        "colab": {
          "base_uri": "https://localhost:8080/",
          "height": 52
        }
      },
      "source": [
        "def mnist_iterator(batch_size):\n",
        "\"\"\"\n",
        "Generator to stream data values from the training set\n",
        "\"\"\"\n",
        "  count = 0\n",
        "  while True:\n",
        "    mask = np.array([1])\n",
        "    X = train[count * batch_size: count * batch_size + batch_size]\n",
        "    y = label[count * batch_size: count * batch_size + batch_size]\n",
        "    count += 1\n",
        "    count = count % 20000\n",
        "    yield (X, y.reshape(batch_size, 1), mask)\n",
        "\n",
        "copy_inputs = trax.supervised.Inputs(lambda _: mnist_iterator(1))\n",
        "\n",
        "# Peek into the inputs.\n",
        "data_stream = copy_inputs.train_stream(1)\n",
        "inputs, labels, mask = next(data_stream)\n",
        "print(inputs.shape)\n",
        "print(labels.shape)"
      ],
      "execution_count": 0,
      "outputs": [
        {
          "output_type": "stream",
          "text": [
            "(1, 784)\n",
            "(1, 1)\n"
          ],
          "name": "stdout"
        }
      ]
    },
    {
      "cell_type": "markdown",
      "metadata": {
        "id": "RjilZpErwjwK",
        "colab_type": "text"
      },
      "source": [
        "### Model Training"
      ]
    },
    {
      "cell_type": "code",
      "metadata": {
        "colab_type": "code",
        "id": "kSauPt0NUl_o",
        "colab": {}
      },
      "source": [
        "# Resnet Model\n",
        "#TODO: Get this working on MNIST\n",
        "\n",
        "\n",
        "# Multi-layer perceptron model\n",
        "def mlp_model(mode):\n",
        "  return trax.models.MLP(d_hidden=784, mode=mode)\n",
        "\n",
        "output_dir = os.path.expanduser('~/train_dir/')\n",
        "!rm -f ~/train_dir/model.pkl  # Remove old model.\n",
        "\n",
        "# Create the Trainer, initialize with model, data, loss_fn, and optimizer\n",
        "# TODO Get Triplet Loss\n",
        "trainer = trax.supervised.Trainer(\n",
        "    model=mlp_model,\n",
        "    loss_fn=trax.layers.CrossEntropyLoss,\n",
        "    optimizer=trax.optimizers.Adafactor,  # Change optimizer params here.\n",
        "    lr_schedule=trax.lr.MultifactorSchedule,  # Change lr schedule here.\n",
        "    inputs=copy_inputs,\n",
        "    output_dir=output_dir,\n",
        "    has_weights=True)  # Because we have loss mask, this API may change.\n",
        "\n",
        "# Train for 3 epochs each consisting of 500 train batches, eval on 2 batches.\n",
        "n_epochs  = 20\n",
        "train_steps = 1000\n",
        "eval_steps = 2\n",
        "for _ in range(n_epochs):\n",
        "  trainer.train_epoch(train_steps, eval_steps)"
      ],
      "execution_count": 0,
      "outputs": []
    },
    {
      "cell_type": "markdown",
      "metadata": {
        "id": "wNSXnQOYwop3",
        "colab_type": "text"
      },
      "source": [
        "### Inference"
      ]
    },
    {
      "cell_type": "code",
      "metadata": {
        "colab_type": "code",
        "id": "cqjYoxPEu8PG",
        "colab": {}
      },
      "source": [
        "# Initialize model for inference.\n",
        "predict_model = mlp_model(mode='predict')\n",
        "predict_signature = trax.shapes.ShapeDtype((1,784), dtype=np.int32)\n",
        "predict_model.init(predict_signature)\n",
        "predict_model.weights = trainer.model_weights\n"
      ],
      "execution_count": 0,
      "outputs": []
    },
    {
      "cell_type": "code",
      "metadata": {
        "id": "zwFxEtStm_3w",
        "colab_type": "code",
        "outputId": "5086eb68-8375-44e5-d98a-36fb441f6efe",
        "colab": {
          "base_uri": "https://localhost:8080/",
          "height": 300
        }
      },
      "source": [
        "X_pred = train[9]\n",
        "print(np.argmax(predict_model(X_pred.reshape(1,784))))\n",
        "plt.imshow(X_pred.reshape(28, 28))"
      ],
      "execution_count": 0,
      "outputs": [
        {
          "output_type": "stream",
          "text": [
            "5\n"
          ],
          "name": "stdout"
        },
        {
          "output_type": "execute_result",
          "data": {
            "text/plain": [
              "<matplotlib.image.AxesImage at 0x7ff132f46cf8>"
            ]
          },
          "metadata": {
            "tags": []
          },
          "execution_count": 147
        },
        {
          "output_type": "display_data",
          "data": {
            "image/png": "[encoded data removed]",
            "text/plain": [
              "<Figure size 432x288 with 1 Axes>"
            ]
          },
          "metadata": {
            "tags": []
          }
        }
      ]
    },
    {
      "cell_type": "markdown",
      "metadata": {
        "id": "7vlsYHuEgoLl",
        "colab_type": "text"
      },
      "source": [
        "## Dummy Data Resnet50\n"
      ]
    },
    {
      "cell_type": "code",
      "metadata": {
        "id": "YTuUPkFKutO4",
        "colab_type": "code",
        "colab": {}
      },
      "source": [
        "def gen_resnet50():\n",
        "  while True:\n",
        "    X = np.random.randint(255, size=(1, 224, 224, 3))\n",
        "    mask = np.array([1])\n",
        "    y = np.array([5])\n",
        "    yield (X, y, mask)\n",
        "\n",
        "def resnet50_model(mode):\n",
        "  return trax.models.Resnet50(n_output_classes=10, mode=mode)\n"
      ],
      "execution_count": 0,
      "outputs": []
    },
    {
      "cell_type": "code",
      "metadata": {
        "id": "l0iLkwdAZoqe",
        "colab_type": "code",
        "outputId": "4c7862dc-75b4-4849-ca71-e0c4a566c62f",
        "colab": {
          "base_uri": "https://localhost:8080/",
          "height": 52
        }
      },
      "source": [
        "resnet_inputs = trax.supervised.Inputs(lambda _: gen_resnet50())\n",
        "\n",
        "data_stream = resnet_inputs.train_stream(1)\n",
        "inputs, labels, mask = next(data_stream)\n",
        "print(inputs.shape)\n",
        "print(labels.shape)"
      ],
      "execution_count": 5,
      "outputs": [
        {
          "output_type": "stream",
          "text": [
            "(1, 224, 224, 3)\n",
            "(1,)\n"
          ],
          "name": "stdout"
        }
      ]
    },
    {
      "cell_type": "code",
      "metadata": {
        "id": "f8JeMPRGZxBZ",
        "colab_type": "code",
        "outputId": "3bc4db28-7a64-413d-f7f1-9a95628d6276",
        "colab": {
          "base_uri": "https://localhost:8080/",
          "height": 494
        }
      },
      "source": [
        "output_dir = os.path.expanduser('~/train_dir/')\n",
        "!rm -f ~/train_dir/model.pkl  # Remove old model.\n",
        "\n",
        "# Create the Trainer, initialize with model, data, loss_fn, and optimizer\n",
        "trainer = trax.supervised.Trainer(\n",
        "    model=resnet50_model,\n",
        "    loss_fn=trax.layers.CrossEntropyLoss,\n",
        "    optimizer=trax.optimizers.Adafactor,  # Change optimizer params here.\n",
        "    lr_schedule=trax.lr.MultifactorSchedule,  # Change lr schedule here.\n",
        "    inputs=resnet_inputs,\n",
        "    output_dir=output_dir,\n",
        "    has_weights=True)  # Because we have loss mask, this API may change.\n",
        "\n",
        "# Train for 3 epochs each consisting of 500 train batches, eval on 2 batches.\n",
        "n_epochs  = 2\n",
        "train_steps = 10\n",
        "eval_steps = 2\n",
        "for _ in range(n_epochs):\n",
        "  trainer.train_epoch(train_steps, eval_steps)"
      ],
      "execution_count": 0,
      "outputs": [
        {
          "output_type": "stream",
          "text": [
            "/usr/local/lib/python3.6/dist-packages/jax/lax/lax.py:4622: UserWarning: Explicitly requested dtype <class 'jax.numpy.lax_numpy.int64'> requested in zeros is not available, and will be truncated to dtype int32. To enable more dtypes, set the jax_enable_x64 configuration option or the JAX_ENABLE_X64 shell environment variable. See https://github.com/google/jax#current-gotchas for more.\n",
            "  warnings.warn(msg.format(dtype, fun_name , truncated_dtype))\n"
          ],
          "name": "stderr"
        },
        {
          "output_type": "stream",
          "text": [
            "\n",
            "Step     10: Ran 10 train steps in 86.80 secs\n",
            "Step     10: Evaluation\n",
            "Step     10: train                   accuracy |  0.00000000\n",
            "Step     10: train                       loss |  11019.67871094\n",
            "Step     10: train         neg_log_perplexity |  11019.67871094\n",
            "Step     10: train weights_per_batch_per_core |  1.00000000\n",
            "Step     10: eval                    accuracy |  0.00000000\n",
            "Step     10: eval                        loss |  10902.46289062\n",
            "Step     10: eval          neg_log_perplexity |  10902.46289062\n",
            "Step     10: eval  weights_per_batch_per_core |  1.00000000\n",
            "Step     10: Finished evaluation\n",
            "\n",
            "Step     20: Ran 10 train steps in 0.54 secs\n",
            "Step     20: Evaluation\n",
            "Step     20: train                   accuracy |  0.00000000\n",
            "Step     20: train                       loss |  4358.71875000\n",
            "Step     20: train         neg_log_perplexity |  4358.71875000\n",
            "Step     20: train weights_per_batch_per_core |  1.00000000\n",
            "Step     20: eval                    accuracy |  0.00000000\n",
            "Step     20: eval                        loss |  4302.55371094\n",
            "Step     20: eval          neg_log_perplexity |  4302.55371094\n",
            "Step     20: eval  weights_per_batch_per_core |  1.00000000\n",
            "Step     20: Finished evaluation\n"
          ],
          "name": "stdout"
        }
      ]
    },
    {
      "cell_type": "code",
      "metadata": {
        "id": "CuGs5ueNZ8jc",
        "colab_type": "code",
        "outputId": "1d664af1-0883-4c32-e7e1-cf47afe7b78f",
        "colab": {
          "base_uri": "https://localhost:8080/",
          "height": 72
        }
      },
      "source": [
        "predict_model = resnet50_model(mode='predict')\n",
        "predict_signature = trax.shapes.ShapeDtype((1,224,224,3), dtype=np.int32)\n",
        "predict_model.init(predict_signature)\n",
        "predict_model.weights = trainer.model_weights"
      ],
      "execution_count": 0,
      "outputs": [
        {
          "output_type": "stream",
          "text": [
            "/usr/local/lib/python3.6/dist-packages/jax/lax/lax.py:4622: UserWarning: Explicitly requested dtype <class 'jax.numpy.lax_numpy.int64'> requested in zeros is not available, and will be truncated to dtype int32. To enable more dtypes, set the jax_enable_x64 configuration option or the JAX_ENABLE_X64 shell environment variable. See https://github.com/google/jax#current-gotchas for more.\n",
            "  warnings.warn(msg.format(dtype, fun_name , truncated_dtype))\n"
          ],
          "name": "stderr"
        }
      ]
    },
    {
      "cell_type": "code",
      "metadata": {
        "id": "JKzcjtklfxv7",
        "colab_type": "code",
        "outputId": "596d15cc-6cbb-47eb-c073-ec0b599975df",
        "colab": {
          "base_uri": "https://localhost:8080/",
          "height": 52
        }
      },
      "source": [
        "X_pred = np.random.randint(255, size=(1, 224, 224, 3))\n",
        "print(predict_model(X_pred))"
      ],
      "execution_count": 0,
      "outputs": [
        {
          "output_type": "stream",
          "text": [
            "[[ -81249.03 -262850.75       0.   -174274.62 -224923.   -232669.06\n",
            "  -345881.3  -169060.97 -440464.84 -502365.5 ]]\n"
          ],
          "name": "stdout"
        }
      ]
    },
    {
      "cell_type": "markdown",
      "metadata": {
        "id": "2r4Pn3WVRmwE",
        "colab_type": "text"
      },
      "source": [
        "## Resnet with Embedding Output"
      ]
    },
    {
      "cell_type": "code",
      "metadata": {
        "id": "D00g0IQDRjDN",
        "colab_type": "code",
        "colab": {}
      },
      "source": [
        "from trax.models.resnet import ConvBlock\n",
        "from trax.models.resnet import IdentityBlock\n",
        "\n",
        "\n",
        "# Forked from trax, just to help get set up\n",
        "def ImageFEC(d_hidden=64,\n",
        "             n_output_classes=1001,\n",
        "             mode='train',\n",
        "             norm=tl.BatchNorm,\n",
        "             non_linearity=tl.Relu):\n",
        "  \"\"\"ResNet.\n",
        "  Args:\n",
        "    d_hidden: Dimensionality of the first hidden layer (multiplied later).\n",
        "    n_output_classes: Number of distinct output classes.\n",
        "    mode: Whether we are training or evaluating or doing inference.\n",
        "    norm: `Layer` used for normalization, Ex: BatchNorm or\n",
        "      FilterResponseNorm.\n",
        "    non_linearity: `Layer` used as a non-linearity, Ex: If norm is\n",
        "      BatchNorm then this is a Relu, otherwise for FilterResponseNorm this\n",
        "      should be ThresholdedLinearUnit.\n",
        "  Returns:\n",
        "    The list of layers comprising a ResNet model with the given parameters.\n",
        "  \"\"\"\n",
        "\n",
        "  # A ConvBlock configured with the given norm, non-linearity and mode.\n",
        "  def Resnet50ConvBlock(filter_multiplier=1, strides=(2, 2)):\n",
        "    filters = ([\n",
        "        filter_multiplier * dim for dim in [d_hidden, d_hidden, 4 * d_hidden]\n",
        "    ])\n",
        "    return ConvBlock(3, filters, strides, norm, non_linearity, mode)\n",
        "\n",
        "  # Same as above for IdentityBlock.\n",
        "  def Resnet50IdentityBlock(filter_multiplier=1):\n",
        "    filters = ([\n",
        "        filter_multiplier * dim for dim in [d_hidden, d_hidden, 4 * d_hidden]\n",
        "    ])\n",
        "    return IdentityBlock(3, filters, norm, non_linearity, mode)\n",
        "\n",
        "  return tl.Serial(\n",
        "      tl.ToFloat(),\n",
        "      tl.Conv(d_hidden, (7, 7), (2, 2), 'SAME'),\n",
        "      norm(mode=mode),\n",
        "      non_linearity(),\n",
        "      tl.MaxPool(pool_size=(3, 3), strides=(2, 2)),\n",
        "      Resnet50ConvBlock(strides=(1, 1)),\n",
        "      [Resnet50IdentityBlock() for _ in range(2)],\n",
        "      Resnet50ConvBlock(2),\n",
        "      [Resnet50IdentityBlock(2) for _ in range(3)],\n",
        "      Resnet50ConvBlock(4),\n",
        "      [Resnet50IdentityBlock(4) for _ in range(5)],\n",
        "      Resnet50ConvBlock(8),\n",
        "      [Resnet50IdentityBlock(8) for _ in range(2)],\n",
        "      tl.AvgPool(pool_size=(7, 7)),\n",
        "      tl.Flatten(),\n",
        "      tl.Dense(16),\n",
        "      #tl.BatchNorm(axis=0)\n",
        "      tl.LayerNorm(),\n",
        "      #tl.LogSoftmax(),\n",
        "  )"
      ],
      "execution_count": 0,
      "outputs": []
    },
    {
      "cell_type": "code",
      "metadata": {
        "id": "Ph-DJtDlS0f1",
        "colab_type": "code",
        "colab": {}
      },
      "source": [
        "def gen_image_fec():\n",
        "  while True:\n",
        "    X = np.random.randint(255, size=(1, 224, 224, 3))\n",
        "    mask = np.array([1])\n",
        "    y = np.ones((1,16)) / np.sqrt(16)\n",
        "    yield (X, y, mask)\n",
        "\n",
        "def image_fec_model(mode):\n",
        "  return ImageFEC(mode=mode)"
      ],
      "execution_count": 0,
      "outputs": []
    },
    {
      "cell_type": "code",
      "metadata": {
        "id": "FzsVTORXTGSH",
        "colab_type": "code",
        "colab": {
          "base_uri": "https://localhost:8080/",
          "height": 52
        },
        "outputId": "12199183-9ac9-456b-8592-5a20ebee8ecf"
      },
      "source": [
        "resnet_inputs = trax.supervised.Inputs(lambda _: gen_image_fec())\n",
        "\n",
        "data_stream = resnet_inputs.train_stream(1)\n",
        "inputs, labels, mask = next(data_stream)\n",
        "print(inputs.shape)\n",
        "print(labels.shape)"
      ],
      "execution_count": 98,
      "outputs": [
        {
          "output_type": "stream",
          "text": [
            "(1, 224, 224, 3)\n",
            "(1, 16)\n"
          ],
          "name": "stdout"
        }
      ]
    },
    {
      "cell_type": "code",
      "metadata": {
        "id": "ezkTQJ-rTUmO",
        "colab_type": "code",
        "colab": {
          "base_uri": "https://localhost:8080/",
          "height": 494
        },
        "outputId": "fea8e51b-f91b-4cb9-d87d-39f257b317fc"
      },
      "source": [
        "output_dir = os.path.expanduser('~/train_dir/')\n",
        "!rm -f ~/train_dir/model.pkl  # Remove old model.\n",
        "\n",
        "# Create the Trainer, initialize with model, data, loss_fn, and optimizer\n",
        "trainer = trax.supervised.Trainer(\n",
        "    model=image_fec_model,\n",
        "    loss_fn=trax.layers.CrossEntropyLoss,\n",
        "    optimizer=trax.optimizers.Adafactor,  # Change optimizer params here.\n",
        "    lr_schedule=trax.lr.MultifactorSchedule,  # Change lr schedule here.\n",
        "    inputs=resnet_inputs,\n",
        "    output_dir=output_dir,\n",
        "    has_weights=True)  # Because we have loss mask, this API may change.\n",
        "\n",
        "# Train for 3 epochs each consisting of 500 train batches, eval on 2 batches.\n",
        "n_epochs  = 2\n",
        "train_steps = 10\n",
        "eval_steps = 2\n",
        "for _ in range(n_epochs):\n",
        "  trainer.train_epoch(train_steps, eval_steps)"
      ],
      "execution_count": 99,
      "outputs": [
        {
          "output_type": "stream",
          "text": [
            "/usr/local/lib/python3.6/dist-packages/jax/lax/lax.py:4622: UserWarning: Explicitly requested dtype <class 'jax.numpy.lax_numpy.int64'> requested in zeros is not available, and will be truncated to dtype int32. To enable more dtypes, set the jax_enable_x64 configuration option or the JAX_ENABLE_X64 shell environment variable. See https://github.com/google/jax#current-gotchas for more.\n",
            "  warnings.warn(msg.format(dtype, fun_name , truncated_dtype))\n"
          ],
          "name": "stderr"
        },
        {
          "output_type": "stream",
          "text": [
            "\n",
            "Step     10: Ran 10 train steps in 88.73 secs\n",
            "Step     10: Evaluation\n",
            "Step     10: train                   accuracy |  0.00000000\n",
            "Step     10: train                       loss |  0.00000000\n",
            "Step     10: train         neg_log_perplexity |  0.00000000\n",
            "Step     10: train weights_per_batch_per_core |  16.00000000\n",
            "Step     10: eval                    accuracy |  0.00000000\n",
            "Step     10: eval                        loss |  0.00000000\n",
            "Step     10: eval          neg_log_perplexity |  0.00000000\n",
            "Step     10: eval  weights_per_batch_per_core |  16.00000000\n",
            "Step     10: Finished evaluation\n",
            "\n",
            "Step     20: Ran 10 train steps in 0.54 secs\n",
            "Step     20: Evaluation\n",
            "Step     20: train                   accuracy |  0.00000000\n",
            "Step     20: train                       loss |  0.00000000\n",
            "Step     20: train         neg_log_perplexity |  0.00000000\n",
            "Step     20: train weights_per_batch_per_core |  16.00000000\n",
            "Step     20: eval                    accuracy |  0.00000000\n",
            "Step     20: eval                        loss |  0.00000000\n",
            "Step     20: eval          neg_log_perplexity |  0.00000000\n",
            "Step     20: eval  weights_per_batch_per_core |  16.00000000\n",
            "Step     20: Finished evaluation\n"
          ],
          "name": "stdout"
        }
      ]
    },
    {
      "cell_type": "code",
      "metadata": {
        "id": "uDuozMTYTvrs",
        "colab_type": "code",
        "colab": {
          "base_uri": "https://localhost:8080/",
          "height": 72
        },
        "outputId": "bb9e821d-cfe9-4792-f9c3-e9285e860247"
      },
      "source": [
        "predict_model = image_fec_model(mode='predict')\n",
        "predict_signature = trax.shapes.ShapeDtype((1,224,224,3), dtype=np.int32)\n",
        "predict_model.init(predict_signature)\n",
        "predict_model.weights = trainer.model_weights"
      ],
      "execution_count": 81,
      "outputs": [
        {
          "output_type": "stream",
          "text": [
            "/usr/local/lib/python3.6/dist-packages/jax/lax/lax.py:4622: UserWarning: Explicitly requested dtype <class 'jax.numpy.lax_numpy.int64'> requested in zeros is not available, and will be truncated to dtype int32. To enable more dtypes, set the jax_enable_x64 configuration option or the JAX_ENABLE_X64 shell environment variable. See https://github.com/google/jax#current-gotchas for more.\n",
            "  warnings.warn(msg.format(dtype, fun_name , truncated_dtype))\n"
          ],
          "name": "stderr"
        }
      ]
    },
    {
      "cell_type": "code",
      "metadata": {
        "id": "6cXg_lbtT4G7",
        "colab_type": "code",
        "colab": {
          "base_uri": "https://localhost:8080/",
          "height": 87
        },
        "outputId": "273db54e-1ad9-45df-8a18-e12c073657f1"
      },
      "source": [
        "X_pred = np.random.randint(255, size=(1, 224, 224, 3))\n",
        "y_pred = predict_model(X_pred)\n",
        "print(y_pred.shape)\n",
        "print(y_pred)"
      ],
      "execution_count": 82,
      "outputs": [
        {
          "output_type": "stream",
          "text": [
            "(1, 16)\n",
            "[[  99539.86   -78613.05    18691.195  333988.25    20243.775 -211312.16\n",
            "  -371872.     -27524.047  256631.48   304937.7    341741.78  -127014.3\n",
            "   -30517.047 -147248.38   -16032.406 -237722.69 ]]\n"
          ],
          "name": "stdout"
        }
      ]
    },
    {
      "cell_type": "markdown",
      "metadata": {
        "id": "4Qn515qog54r",
        "colab_type": "text"
      },
      "source": [
        "## Triplet Image Resnet50"
      ]
    },
    {
      "cell_type": "markdown",
      "metadata": {
        "id": "TVU1i1YshqQQ",
        "colab_type": "text"
      },
      "source": [
        "Import Data"
      ]
    },
    {
      "cell_type": "code",
      "metadata": {
        "id": "jnWhwz-RUiBl",
        "colab_type": "code",
        "outputId": "c031ca18-d087-4aad-8351-2600c0f4bd7e",
        "colab": {
          "base_uri": "https://localhost:8080/",
          "height": 125
        }
      },
      "source": [
        "from google.colab import drive\n",
        "drive.mount('/content/drive')"
      ],
      "execution_count": 0,
      "outputs": [
        {
          "output_type": "stream",
          "text": [
            "Go to this URL in a browser: https://accounts.google.com/o/oauth2/auth?client_id=947318989803-6bn6qk8qdgf4n4g3pfee6491hc0brc4i.apps.googleusercontent.com&redirect_uri=urn%3aietf%3awg%3aoauth%3a2.0%3aoob&response_type=code&scope=email%20https%3a%2f%2fwww.googleapis.com%2fauth%2fdocs.test%20https%3a%2f%2fwww.googleapis.com%2fauth%2fdrive%20https%3a%2f%2fwww.googleapis.com%2fauth%2fdrive.photos.readonly%20https%3a%2f%2fwww.googleapis.com%2fauth%2fpeopleapi.readonly\n",
            "\n",
            "Enter your authorization code:\n",
            "··········\n",
            "Mounted at /content/drive\n"
          ],
          "name": "stdout"
        }
      ]
    },
    {
      "cell_type": "code",
      "metadata": {
        "id": "cN3zlSmbhoOl",
        "colab_type": "code",
        "colab": {}
      },
      "source": [
        "face_train = pd.read_csv(\"/content/drive/My Drive/Colab Notebooks/faceexp-comparison-data-train-public.csv\", index_col=False, header=None)\n",
        "face_train = face_train.drop(columns = [28,29,30,31,32,33,34,35,36,37])\n",
        "face_train[\"label\"] = face_train.loc[:,[17,19,21,23,25]].mode(axis=1).loc[:, 0]\n",
        "face_train = face_train.drop(columns=[17,19,21,23,25,27])\n"
      ],
      "execution_count": 0,
      "outputs": []
    },
    {
      "cell_type": "code",
      "metadata": {
        "id": "nSx1vYHbiqBl",
        "colab_type": "code",
        "outputId": "86973cf1-6197-4318-a799-2f3c29270e4c",
        "colab": {
          "base_uri": "https://localhost:8080/",
          "height": 215
        }
      },
      "source": [
        "face_train.head()"
      ],
      "execution_count": 0,
      "outputs": [
        {
          "output_type": "execute_result",
          "data": {
            "text/html": [
              "<div>\n",
              "<style scoped>\n",
              "    .dataframe tbody tr th:only-of-type {\n",
              "        vertical-align: middle;\n",
              "    }\n",
              "\n",
              "    .dataframe tbody tr th {\n",
              "        vertical-align: top;\n",
              "    }\n",
              "\n",
              "    .dataframe thead th {\n",
              "        text-align: right;\n",
              "    }\n",
              "</style>\n",
              "<table border=\"1\" class=\"dataframe\">\n",
              "  <thead>\n",
              "    <tr style=\"text-align: right;\">\n",
              "      <th></th>\n",
              "      <th>0</th>\n",
              "      <th>1</th>\n",
              "      <th>2</th>\n",
              "      <th>3</th>\n",
              "      <th>4</th>\n",
              "      <th>5</th>\n",
              "      <th>6</th>\n",
              "      <th>7</th>\n",
              "      <th>8</th>\n",
              "      <th>9</th>\n",
              "      <th>10</th>\n",
              "      <th>11</th>\n",
              "      <th>12</th>\n",
              "      <th>13</th>\n",
              "      <th>14</th>\n",
              "      <th>15</th>\n",
              "      <th>16</th>\n",
              "      <th>18</th>\n",
              "      <th>20</th>\n",
              "      <th>22</th>\n",
              "      <th>24</th>\n",
              "      <th>26</th>\n",
              "      <th>label</th>\n",
              "    </tr>\n",
              "  </thead>\n",
              "  <tbody>\n",
              "    <tr>\n",
              "      <th>0</th>\n",
              "      <td>http://farm5.staticflickr.com/4108/5185055338_...</td>\n",
              "      <td>0.142578</td>\n",
              "      <td>0.266602</td>\n",
              "      <td>0.065421</td>\n",
              "      <td>0.297508</td>\n",
              "      <td>http://farm3.staticflickr.com/2127/5765052001_...</td>\n",
              "      <td>0.439490</td>\n",
              "      <td>0.596178</td>\n",
              "      <td>0.289062</td>\n",
              "      <td>0.427734</td>\n",
              "      <td>http://farm4.staticflickr.com/3747/8914150145_...</td>\n",
              "      <td>0.345703</td>\n",
              "      <td>0.453125</td>\n",
              "      <td>0.075110</td>\n",
              "      <td>0.262150</td>\n",
              "      <td>ONE_CLASS_TRIPLET</td>\n",
              "      <td>269701</td>\n",
              "      <td>291701</td>\n",
              "      <td>321402</td>\n",
              "      <td>321501</td>\n",
              "      <td>321902</td>\n",
              "      <td>322102</td>\n",
              "      <td>2.0</td>\n",
              "    </tr>\n",
              "    <tr>\n",
              "      <th>1</th>\n",
              "      <td>http://farm5.staticflickr.com/4108/5185055338_...</td>\n",
              "      <td>0.142578</td>\n",
              "      <td>0.266602</td>\n",
              "      <td>0.065421</td>\n",
              "      <td>0.297508</td>\n",
              "      <td>http://farm4.staticflickr.com/3543/3387356856_...</td>\n",
              "      <td>0.335938</td>\n",
              "      <td>0.441406</td>\n",
              "      <td>0.130307</td>\n",
              "      <td>0.311859</td>\n",
              "      <td>http://farm4.staticflickr.com/3674/9280612097_...</td>\n",
              "      <td>0.359307</td>\n",
              "      <td>0.562771</td>\n",
              "      <td>0.514648</td>\n",
              "      <td>0.673828</td>\n",
              "      <td>TWO_CLASS_TRIPLET</td>\n",
              "      <td>291701</td>\n",
              "      <td>321402</td>\n",
              "      <td>321601</td>\n",
              "      <td>4295017797</td>\n",
              "      <td>4295017896</td>\n",
              "      <td>48316</td>\n",
              "      <td>2.0</td>\n",
              "    </tr>\n",
              "    <tr>\n",
              "      <th>2</th>\n",
              "      <td>http://farm5.staticflickr.com/4108/5185055338_...</td>\n",
              "      <td>0.142578</td>\n",
              "      <td>0.266602</td>\n",
              "      <td>0.065421</td>\n",
              "      <td>0.297508</td>\n",
              "      <td>http://farm4.staticflickr.com/3858/14540292875...</td>\n",
              "      <td>0.206442</td>\n",
              "      <td>0.524158</td>\n",
              "      <td>0.078125</td>\n",
              "      <td>0.325195</td>\n",
              "      <td>http://farm5.staticflickr.com/4116/4747184973_...</td>\n",
              "      <td>0.387695</td>\n",
              "      <td>0.547852</td>\n",
              "      <td>0.184694</td>\n",
              "      <td>0.380612</td>\n",
              "      <td>ONE_CLASS_TRIPLET</td>\n",
              "      <td>300901</td>\n",
              "      <td>321902</td>\n",
              "      <td>322102</td>\n",
              "      <td>4295017797</td>\n",
              "      <td>4295017896</td>\n",
              "      <td>48316</td>\n",
              "      <td>1.0</td>\n",
              "    </tr>\n",
              "    <tr>\n",
              "      <th>3</th>\n",
              "      <td>http://farm5.staticflickr.com/4108/5185055338_...</td>\n",
              "      <td>0.718750</td>\n",
              "      <td>0.826172</td>\n",
              "      <td>0.194704</td>\n",
              "      <td>0.394081</td>\n",
              "      <td>http://farm4.staticflickr.com/3875/14501588548...</td>\n",
              "      <td>0.318665</td>\n",
              "      <td>0.488619</td>\n",
              "      <td>0.162109</td>\n",
              "      <td>0.290039</td>\n",
              "      <td>http://farm1.staticflickr.com/89/241047479_eb0...</td>\n",
              "      <td>0.290000</td>\n",
              "      <td>0.430000</td>\n",
              "      <td>0.197333</td>\n",
              "      <td>0.413333</td>\n",
              "      <td>TWO_CLASS_TRIPLET</td>\n",
              "      <td>321402</td>\n",
              "      <td>321501</td>\n",
              "      <td>321601</td>\n",
              "      <td>321902</td>\n",
              "      <td>322102</td>\n",
              "      <td>48316</td>\n",
              "      <td>3.0</td>\n",
              "    </tr>\n",
              "    <tr>\n",
              "      <th>4</th>\n",
              "      <td>http://farm5.staticflickr.com/4108/5185055338_...</td>\n",
              "      <td>0.718750</td>\n",
              "      <td>0.826172</td>\n",
              "      <td>0.194704</td>\n",
              "      <td>0.394081</td>\n",
              "      <td>http://farm6.staticflickr.com/5143/5693754914_...</td>\n",
              "      <td>0.244141</td>\n",
              "      <td>0.380859</td>\n",
              "      <td>0.175000</td>\n",
              "      <td>0.413235</td>\n",
              "      <td>http://farm4.staticflickr.com/3666/12590745114...</td>\n",
              "      <td>0.250000</td>\n",
              "      <td>0.371094</td>\n",
              "      <td>0.242291</td>\n",
              "      <td>0.453745</td>\n",
              "      <td>ONE_CLASS_TRIPLET</td>\n",
              "      <td>269701</td>\n",
              "      <td>321501</td>\n",
              "      <td>321601</td>\n",
              "      <td>321902</td>\n",
              "      <td>322102</td>\n",
              "      <td>41207</td>\n",
              "      <td>2.0</td>\n",
              "    </tr>\n",
              "  </tbody>\n",
              "</table>\n",
              "</div>"
            ],
            "text/plain": [
              "                                                   0         1  ...      26  label\n",
              "0  http://farm5.staticflickr.com/4108/5185055338_...  0.142578  ...  322102    2.0\n",
              "1  http://farm5.staticflickr.com/4108/5185055338_...  0.142578  ...   48316    2.0\n",
              "2  http://farm5.staticflickr.com/4108/5185055338_...  0.142578  ...   48316    1.0\n",
              "3  http://farm5.staticflickr.com/4108/5185055338_...  0.718750  ...   48316    3.0\n",
              "4  http://farm5.staticflickr.com/4108/5185055338_...  0.718750  ...   41207    2.0\n",
              "\n",
              "[5 rows x 23 columns]"
            ]
          },
          "metadata": {
            "tags": []
          },
          "execution_count": 7
        }
      ]
    },
    {
      "cell_type": "markdown",
      "metadata": {
        "id": "skMzFWP0hr8Y",
        "colab_type": "text"
      },
      "source": [
        "Image Generation Stream"
      ]
    },
    {
      "cell_type": "code",
      "metadata": {
        "id": "B2rvFs_6g_Vu",
        "colab_type": "code",
        "colab": {}
      },
      "source": [
        "def url_to_image(url):\n",
        "  resp = urllib.request.urlopen(url)\n",
        "  image = np.asarray(bytearray(resp.read()), dtype=\"uint8\")\n",
        "  image = cv2.imdecode(image, cv2.IMREAD_COLOR)\n",
        "\n",
        "  return image\n",
        "\n",
        "def get_image(offset, train_data):\n",
        "  img = url_to_image(train_data[0 + offset])\n",
        "  x0 = int(img.shape[0] * train_data[1 + offset])\n",
        "  y0 = int(img.shape[1] * train_data[2 + offset])\n",
        "  x1 = int(img.shape[0] * train_data[3 + offset])\n",
        "  y1 = int(img.shape[1] * train_data[4 + offset])\n",
        "\n",
        "  img = img[min(y0,y1):max(y0,y1), min(x0,x1):max(x0, x1)]\n",
        "  img = cv2.resize(img, (224, 224)) \n",
        "  return img\n",
        "\n",
        "def image_iterator():\n",
        "  count = 0\n",
        "  while True:\n",
        "    train_data = face_train.loc[count]\n",
        "    mask = np.array([1])\n",
        "    triplet = np.zeros((3, 224, 224, 3))\n",
        "    \n",
        "    triplet[0] = get_image(0, train_data)\n",
        "    triplet[1] = get_image(5, train_data)\n",
        "    triplet[2] = get_image(10, train_data)\n",
        "\n",
        "    label = np.array([face_train.loc[count, \"label\"]])\n",
        "    count+=1\n",
        "    yield (triplet, label, mask)\n"
      ],
      "execution_count": 0,
      "outputs": []
    },
    {
      "cell_type": "code",
      "metadata": {
        "id": "_PTshDA2hQIQ",
        "colab_type": "code",
        "outputId": "ca159e45-3752-4020-dee2-ca7f0a6ca594",
        "colab": {
          "base_uri": "https://localhost:8080/",
          "height": 52
        }
      },
      "source": [
        "resnet_inputs = trax.supervised.Inputs(lambda _: image_iterator())\n",
        "\n",
        "data_stream = resnet_inputs.train_stream(1)\n",
        "inputs, labels, mask = next(data_stream)\n",
        "print(inputs.shape)\n",
        "print(labels.shape)"
      ],
      "execution_count": 0,
      "outputs": [
        {
          "output_type": "stream",
          "text": [
            "(3, 224, 224, 3)\n",
            "(1,)\n"
          ],
          "name": "stdout"
        }
      ]
    },
    {
      "cell_type": "markdown",
      "metadata": {
        "id": "6b_rF9l3jq_Q",
        "colab_type": "text"
      },
      "source": [
        "### Train the Model"
      ]
    },
    {
      "cell_type": "code",
      "metadata": {
        "id": "WIWPhJMUS-AO",
        "colab_type": "code",
        "outputId": "61d8a64b-2430-477b-f04b-44f62d5d61f7",
        "colab": {
          "base_uri": "https://localhost:8080/",
          "height": 634
        }
      },
      "source": [
        "output_dir = os.path.expanduser('~/train_dir/')\n",
        "!rm -f ~/train_dir/model.pkl  # Remove old model.\n",
        "\n",
        "# Create the Trainer, initialize with model, data, loss_fn, and optimizer\n",
        "# TODO Get Triplet Loss\n",
        "trainer = trax.supervised.Trainer(\n",
        "    model=resnet50_model,\n",
        "    loss_fn=trax.layers.CrossEntropyLoss, #TODO: Change this\n",
        "    optimizer=trax.optimizers.Adafactor, \n",
        "    lr_schedule=trax.lr.MultifactorSchedule, \n",
        "    inputs=resnet_inputs,\n",
        "    output_dir=output_dir,\n",
        "    has_weights=True) \n",
        "\n",
        "# Train for 3 epochs each consisting of 500 train batches, eval on 2 batches.\n",
        "n_epochs  = 2\n",
        "train_steps = 4\n",
        "eval_steps = 2\n",
        "for _ in range(n_epochs):\n",
        "  trainer.train_epoch(train_steps, eval_steps)"
      ],
      "execution_count": 0,
      "outputs": [
        {
          "output_type": "stream",
          "text": [
            "/usr/local/lib/python3.6/dist-packages/jax/lax/lax.py:4622: UserWarning: Explicitly requested dtype <class 'jax.numpy.lax_numpy.int64'> requested in zeros is not available, and will be truncated to dtype int32. To enable more dtypes, set the jax_enable_x64 configuration option or the JAX_ENABLE_X64 shell environment variable. See https://github.com/google/jax#current-gotchas for more.\n",
            "  warnings.warn(msg.format(dtype, fun_name , truncated_dtype))\n"
          ],
          "name": "stderr"
        },
        {
          "output_type": "stream",
          "text": [
            "\n",
            "Step      4: Ran 4 train steps in 103.21 secs\n",
            "Step      4: Evaluation\n",
            "Step      4: train                   accuracy |  0.00000000\n",
            "Step      4: train                       loss |  59977.21875000\n",
            "Step      4: train         neg_log_perplexity |  59977.21875000\n",
            "Step      4: train weights_per_batch_per_core |  1.00000000\n",
            "Step      4: eval                    accuracy |  0.00000000\n",
            "Step      4: eval                        loss |  59977.21875000\n",
            "Step      4: eval          neg_log_perplexity |  59977.21875000\n",
            "Step      4: eval  weights_per_batch_per_core |  1.00000000\n",
            "Step      4: Finished evaluation\n",
            "\n"
          ],
          "name": "stdout"
        },
        {
          "output_type": "error",
          "ename": "HTTPError",
          "evalue": "ignored",
          "traceback": [
            "\u001b[0;31m---------------------------------------------------------------------------\u001b[0m",
            "\u001b[0;31mHTTPError\u001b[0m                                 Traceback (most recent call last)",
            "\u001b[0;32m<ipython-input-12-7a7bbeb49680>\u001b[0m in \u001b[0;36m<module>\u001b[0;34m()\u001b[0m\n\u001b[1;32m     18\u001b[0m \u001b[0meval_steps\u001b[0m \u001b[0;34m=\u001b[0m \u001b[0;36m2\u001b[0m\u001b[0;34m\u001b[0m\u001b[0;34m\u001b[0m\u001b[0m\n\u001b[1;32m     19\u001b[0m \u001b[0;32mfor\u001b[0m \u001b[0m_\u001b[0m \u001b[0;32min\u001b[0m \u001b[0mrange\u001b[0m\u001b[0;34m(\u001b[0m\u001b[0mn_epochs\u001b[0m\u001b[0;34m)\u001b[0m\u001b[0;34m:\u001b[0m\u001b[0;34m\u001b[0m\u001b[0;34m\u001b[0m\u001b[0m\n\u001b[0;32m---> 20\u001b[0;31m   \u001b[0mtrainer\u001b[0m\u001b[0;34m.\u001b[0m\u001b[0mtrain_epoch\u001b[0m\u001b[0;34m(\u001b[0m\u001b[0mtrain_steps\u001b[0m\u001b[0;34m,\u001b[0m \u001b[0meval_steps\u001b[0m\u001b[0;34m)\u001b[0m\u001b[0;34m\u001b[0m\u001b[0;34m\u001b[0m\u001b[0m\n\u001b[0m",
            "\u001b[0;32m/usr/local/lib/python3.6/dist-packages/trax/supervised/trainer_lib.py\u001b[0m in \u001b[0;36mtrain_epoch\u001b[0;34m(self, n_steps, n_eval_steps)\u001b[0m\n\u001b[1;32m    303\u001b[0m \u001b[0;34m\u001b[0m\u001b[0m\n\u001b[1;32m    304\u001b[0m     \u001b[0;32mfor\u001b[0m \u001b[0m_\u001b[0m \u001b[0;32min\u001b[0m \u001b[0mrange\u001b[0m\u001b[0;34m(\u001b[0m\u001b[0mn_steps\u001b[0m\u001b[0;34m)\u001b[0m\u001b[0;34m:\u001b[0m\u001b[0;34m\u001b[0m\u001b[0;34m\u001b[0m\u001b[0m\n\u001b[0;32m--> 305\u001b[0;31m       \u001b[0mbatch\u001b[0m \u001b[0;34m=\u001b[0m \u001b[0mnext\u001b[0m\u001b[0;34m(\u001b[0m\u001b[0mself\u001b[0m\u001b[0;34m.\u001b[0m\u001b[0m_train_stream\u001b[0m\u001b[0;34m)\u001b[0m\u001b[0;34m\u001b[0m\u001b[0;34m\u001b[0m\u001b[0m\n\u001b[0m\u001b[1;32m    306\u001b[0m       \u001b[0;32mif\u001b[0m \u001b[0mself\u001b[0m\u001b[0;34m.\u001b[0m\u001b[0mn_devices\u001b[0m \u001b[0;34m>\u001b[0m \u001b[0;36m1\u001b[0m\u001b[0;34m:\u001b[0m  \u001b[0;31m# TODO(lukaszkaiser): use everywhere if possible.\u001b[0m\u001b[0;34m\u001b[0m\u001b[0;34m\u001b[0m\u001b[0m\n\u001b[1;32m    307\u001b[0m         \u001b[0mbatch\u001b[0m \u001b[0;34m=\u001b[0m \u001b[0m_reshape_by_device\u001b[0m\u001b[0;34m(\u001b[0m\u001b[0mbatch\u001b[0m\u001b[0;34m,\u001b[0m \u001b[0mself\u001b[0m\u001b[0;34m.\u001b[0m\u001b[0mn_devices\u001b[0m\u001b[0;34m)\u001b[0m\u001b[0;34m\u001b[0m\u001b[0;34m\u001b[0m\u001b[0m\n",
            "\u001b[0;32m<ipython-input-8-23ba0db40c5a>\u001b[0m in \u001b[0;36mimage_iterator\u001b[0;34m()\u001b[0m\n\u001b[1;32m     26\u001b[0m     \u001b[0mtriplet\u001b[0m\u001b[0;34m[\u001b[0m\u001b[0;36m0\u001b[0m\u001b[0;34m]\u001b[0m \u001b[0;34m=\u001b[0m \u001b[0mget_image\u001b[0m\u001b[0;34m(\u001b[0m\u001b[0;36m0\u001b[0m\u001b[0;34m,\u001b[0m \u001b[0mtrain_data\u001b[0m\u001b[0;34m)\u001b[0m\u001b[0;34m\u001b[0m\u001b[0;34m\u001b[0m\u001b[0m\n\u001b[1;32m     27\u001b[0m     \u001b[0mtriplet\u001b[0m\u001b[0;34m[\u001b[0m\u001b[0;36m1\u001b[0m\u001b[0;34m]\u001b[0m \u001b[0;34m=\u001b[0m \u001b[0mget_image\u001b[0m\u001b[0;34m(\u001b[0m\u001b[0;36m5\u001b[0m\u001b[0;34m,\u001b[0m \u001b[0mtrain_data\u001b[0m\u001b[0;34m)\u001b[0m\u001b[0;34m\u001b[0m\u001b[0;34m\u001b[0m\u001b[0m\n\u001b[0;32m---> 28\u001b[0;31m     \u001b[0mtriplet\u001b[0m\u001b[0;34m[\u001b[0m\u001b[0;36m2\u001b[0m\u001b[0;34m]\u001b[0m \u001b[0;34m=\u001b[0m \u001b[0mget_image\u001b[0m\u001b[0;34m(\u001b[0m\u001b[0;36m10\u001b[0m\u001b[0;34m,\u001b[0m \u001b[0mtrain_data\u001b[0m\u001b[0;34m)\u001b[0m\u001b[0;34m\u001b[0m\u001b[0;34m\u001b[0m\u001b[0m\n\u001b[0m\u001b[1;32m     29\u001b[0m \u001b[0;34m\u001b[0m\u001b[0m\n\u001b[1;32m     30\u001b[0m     \u001b[0mlabel\u001b[0m \u001b[0;34m=\u001b[0m \u001b[0mnp\u001b[0m\u001b[0;34m.\u001b[0m\u001b[0marray\u001b[0m\u001b[0;34m(\u001b[0m\u001b[0;34m[\u001b[0m\u001b[0mface_train\u001b[0m\u001b[0;34m.\u001b[0m\u001b[0mloc\u001b[0m\u001b[0;34m[\u001b[0m\u001b[0mcount\u001b[0m\u001b[0;34m,\u001b[0m \u001b[0;34m\"label\"\u001b[0m\u001b[0;34m]\u001b[0m\u001b[0;34m]\u001b[0m\u001b[0;34m)\u001b[0m\u001b[0;34m\u001b[0m\u001b[0;34m\u001b[0m\u001b[0m\n",
            "\u001b[0;32m<ipython-input-8-23ba0db40c5a>\u001b[0m in \u001b[0;36mget_image\u001b[0;34m(offset, train_data)\u001b[0m\n\u001b[1;32m      7\u001b[0m \u001b[0;34m\u001b[0m\u001b[0m\n\u001b[1;32m      8\u001b[0m \u001b[0;32mdef\u001b[0m \u001b[0mget_image\u001b[0m\u001b[0;34m(\u001b[0m\u001b[0moffset\u001b[0m\u001b[0;34m,\u001b[0m \u001b[0mtrain_data\u001b[0m\u001b[0;34m)\u001b[0m\u001b[0;34m:\u001b[0m\u001b[0;34m\u001b[0m\u001b[0;34m\u001b[0m\u001b[0m\n\u001b[0;32m----> 9\u001b[0;31m   \u001b[0mimg\u001b[0m \u001b[0;34m=\u001b[0m \u001b[0murl_to_image\u001b[0m\u001b[0;34m(\u001b[0m\u001b[0mtrain_data\u001b[0m\u001b[0;34m[\u001b[0m\u001b[0;36m0\u001b[0m \u001b[0;34m+\u001b[0m \u001b[0moffset\u001b[0m\u001b[0;34m]\u001b[0m\u001b[0;34m)\u001b[0m\u001b[0;34m\u001b[0m\u001b[0;34m\u001b[0m\u001b[0m\n\u001b[0m\u001b[1;32m     10\u001b[0m   \u001b[0mx0\u001b[0m \u001b[0;34m=\u001b[0m \u001b[0mint\u001b[0m\u001b[0;34m(\u001b[0m\u001b[0mimg\u001b[0m\u001b[0;34m.\u001b[0m\u001b[0mshape\u001b[0m\u001b[0;34m[\u001b[0m\u001b[0;36m0\u001b[0m\u001b[0;34m]\u001b[0m \u001b[0;34m*\u001b[0m \u001b[0mtrain_data\u001b[0m\u001b[0;34m[\u001b[0m\u001b[0;36m1\u001b[0m \u001b[0;34m+\u001b[0m \u001b[0moffset\u001b[0m\u001b[0;34m]\u001b[0m\u001b[0;34m)\u001b[0m\u001b[0;34m\u001b[0m\u001b[0;34m\u001b[0m\u001b[0m\n\u001b[1;32m     11\u001b[0m   \u001b[0my0\u001b[0m \u001b[0;34m=\u001b[0m \u001b[0mint\u001b[0m\u001b[0;34m(\u001b[0m\u001b[0mimg\u001b[0m\u001b[0;34m.\u001b[0m\u001b[0mshape\u001b[0m\u001b[0;34m[\u001b[0m\u001b[0;36m1\u001b[0m\u001b[0;34m]\u001b[0m \u001b[0;34m*\u001b[0m \u001b[0mtrain_data\u001b[0m\u001b[0;34m[\u001b[0m\u001b[0;36m2\u001b[0m \u001b[0;34m+\u001b[0m \u001b[0moffset\u001b[0m\u001b[0;34m]\u001b[0m\u001b[0;34m)\u001b[0m\u001b[0;34m\u001b[0m\u001b[0;34m\u001b[0m\u001b[0m\n",
            "\u001b[0;32m<ipython-input-8-23ba0db40c5a>\u001b[0m in \u001b[0;36murl_to_image\u001b[0;34m(url)\u001b[0m\n\u001b[1;32m      1\u001b[0m \u001b[0;32mdef\u001b[0m \u001b[0murl_to_image\u001b[0m\u001b[0;34m(\u001b[0m\u001b[0murl\u001b[0m\u001b[0;34m)\u001b[0m\u001b[0;34m:\u001b[0m\u001b[0;34m\u001b[0m\u001b[0;34m\u001b[0m\u001b[0m\n\u001b[0;32m----> 2\u001b[0;31m   \u001b[0mresp\u001b[0m \u001b[0;34m=\u001b[0m \u001b[0murllib\u001b[0m\u001b[0;34m.\u001b[0m\u001b[0mrequest\u001b[0m\u001b[0;34m.\u001b[0m\u001b[0murlopen\u001b[0m\u001b[0;34m(\u001b[0m\u001b[0murl\u001b[0m\u001b[0;34m)\u001b[0m\u001b[0;34m\u001b[0m\u001b[0;34m\u001b[0m\u001b[0m\n\u001b[0m\u001b[1;32m      3\u001b[0m   \u001b[0mimage\u001b[0m \u001b[0;34m=\u001b[0m \u001b[0mnp\u001b[0m\u001b[0;34m.\u001b[0m\u001b[0masarray\u001b[0m\u001b[0;34m(\u001b[0m\u001b[0mbytearray\u001b[0m\u001b[0;34m(\u001b[0m\u001b[0mresp\u001b[0m\u001b[0;34m.\u001b[0m\u001b[0mread\u001b[0m\u001b[0;34m(\u001b[0m\u001b[0;34m)\u001b[0m\u001b[0;34m)\u001b[0m\u001b[0;34m,\u001b[0m \u001b[0mdtype\u001b[0m\u001b[0;34m=\u001b[0m\u001b[0;34m\"uint8\"\u001b[0m\u001b[0;34m)\u001b[0m\u001b[0;34m\u001b[0m\u001b[0;34m\u001b[0m\u001b[0m\n\u001b[1;32m      4\u001b[0m   \u001b[0mimage\u001b[0m \u001b[0;34m=\u001b[0m \u001b[0mcv2\u001b[0m\u001b[0;34m.\u001b[0m\u001b[0mimdecode\u001b[0m\u001b[0;34m(\u001b[0m\u001b[0mimage\u001b[0m\u001b[0;34m,\u001b[0m \u001b[0mcv2\u001b[0m\u001b[0;34m.\u001b[0m\u001b[0mIMREAD_COLOR\u001b[0m\u001b[0;34m)\u001b[0m\u001b[0;34m\u001b[0m\u001b[0;34m\u001b[0m\u001b[0m\n\u001b[1;32m      5\u001b[0m \u001b[0;34m\u001b[0m\u001b[0m\n",
            "\u001b[0;32m/usr/lib/python3.6/urllib/request.py\u001b[0m in \u001b[0;36murlopen\u001b[0;34m(url, data, timeout, cafile, capath, cadefault, context)\u001b[0m\n\u001b[1;32m    221\u001b[0m     \u001b[0;32melse\u001b[0m\u001b[0;34m:\u001b[0m\u001b[0;34m\u001b[0m\u001b[0;34m\u001b[0m\u001b[0m\n\u001b[1;32m    222\u001b[0m         \u001b[0mopener\u001b[0m \u001b[0;34m=\u001b[0m \u001b[0m_opener\u001b[0m\u001b[0;34m\u001b[0m\u001b[0;34m\u001b[0m\u001b[0m\n\u001b[0;32m--> 223\u001b[0;31m     \u001b[0;32mreturn\u001b[0m \u001b[0mopener\u001b[0m\u001b[0;34m.\u001b[0m\u001b[0mopen\u001b[0m\u001b[0;34m(\u001b[0m\u001b[0murl\u001b[0m\u001b[0;34m,\u001b[0m \u001b[0mdata\u001b[0m\u001b[0;34m,\u001b[0m \u001b[0mtimeout\u001b[0m\u001b[0;34m)\u001b[0m\u001b[0;34m\u001b[0m\u001b[0;34m\u001b[0m\u001b[0m\n\u001b[0m\u001b[1;32m    224\u001b[0m \u001b[0;34m\u001b[0m\u001b[0m\n\u001b[1;32m    225\u001b[0m \u001b[0;32mdef\u001b[0m \u001b[0minstall_opener\u001b[0m\u001b[0;34m(\u001b[0m\u001b[0mopener\u001b[0m\u001b[0;34m)\u001b[0m\u001b[0;34m:\u001b[0m\u001b[0;34m\u001b[0m\u001b[0;34m\u001b[0m\u001b[0m\n",
            "\u001b[0;32m/usr/lib/python3.6/urllib/request.py\u001b[0m in \u001b[0;36mopen\u001b[0;34m(self, fullurl, data, timeout)\u001b[0m\n\u001b[1;32m    530\u001b[0m         \u001b[0;32mfor\u001b[0m \u001b[0mprocessor\u001b[0m \u001b[0;32min\u001b[0m \u001b[0mself\u001b[0m\u001b[0;34m.\u001b[0m\u001b[0mprocess_response\u001b[0m\u001b[0;34m.\u001b[0m\u001b[0mget\u001b[0m\u001b[0;34m(\u001b[0m\u001b[0mprotocol\u001b[0m\u001b[0;34m,\u001b[0m \u001b[0;34m[\u001b[0m\u001b[0;34m]\u001b[0m\u001b[0;34m)\u001b[0m\u001b[0;34m:\u001b[0m\u001b[0;34m\u001b[0m\u001b[0;34m\u001b[0m\u001b[0m\n\u001b[1;32m    531\u001b[0m             \u001b[0mmeth\u001b[0m \u001b[0;34m=\u001b[0m \u001b[0mgetattr\u001b[0m\u001b[0;34m(\u001b[0m\u001b[0mprocessor\u001b[0m\u001b[0;34m,\u001b[0m \u001b[0mmeth_name\u001b[0m\u001b[0;34m)\u001b[0m\u001b[0;34m\u001b[0m\u001b[0;34m\u001b[0m\u001b[0m\n\u001b[0;32m--> 532\u001b[0;31m             \u001b[0mresponse\u001b[0m \u001b[0;34m=\u001b[0m \u001b[0mmeth\u001b[0m\u001b[0;34m(\u001b[0m\u001b[0mreq\u001b[0m\u001b[0;34m,\u001b[0m \u001b[0mresponse\u001b[0m\u001b[0;34m)\u001b[0m\u001b[0;34m\u001b[0m\u001b[0;34m\u001b[0m\u001b[0m\n\u001b[0m\u001b[1;32m    533\u001b[0m \u001b[0;34m\u001b[0m\u001b[0m\n\u001b[1;32m    534\u001b[0m         \u001b[0;32mreturn\u001b[0m \u001b[0mresponse\u001b[0m\u001b[0;34m\u001b[0m\u001b[0;34m\u001b[0m\u001b[0m\n",
            "\u001b[0;32m/usr/lib/python3.6/urllib/request.py\u001b[0m in \u001b[0;36mhttp_response\u001b[0;34m(self, request, response)\u001b[0m\n\u001b[1;32m    640\u001b[0m         \u001b[0;32mif\u001b[0m \u001b[0;32mnot\u001b[0m \u001b[0;34m(\u001b[0m\u001b[0;36m200\u001b[0m \u001b[0;34m<=\u001b[0m \u001b[0mcode\u001b[0m \u001b[0;34m<\u001b[0m \u001b[0;36m300\u001b[0m\u001b[0;34m)\u001b[0m\u001b[0;34m:\u001b[0m\u001b[0;34m\u001b[0m\u001b[0;34m\u001b[0m\u001b[0m\n\u001b[1;32m    641\u001b[0m             response = self.parent.error(\n\u001b[0;32m--> 642\u001b[0;31m                 'http', request, response, code, msg, hdrs)\n\u001b[0m\u001b[1;32m    643\u001b[0m \u001b[0;34m\u001b[0m\u001b[0m\n\u001b[1;32m    644\u001b[0m         \u001b[0;32mreturn\u001b[0m \u001b[0mresponse\u001b[0m\u001b[0;34m\u001b[0m\u001b[0;34m\u001b[0m\u001b[0m\n",
            "\u001b[0;32m/usr/lib/python3.6/urllib/request.py\u001b[0m in \u001b[0;36merror\u001b[0;34m(self, proto, *args)\u001b[0m\n\u001b[1;32m    562\u001b[0m             \u001b[0mhttp_err\u001b[0m \u001b[0;34m=\u001b[0m \u001b[0;36m0\u001b[0m\u001b[0;34m\u001b[0m\u001b[0;34m\u001b[0m\u001b[0m\n\u001b[1;32m    563\u001b[0m         \u001b[0margs\u001b[0m \u001b[0;34m=\u001b[0m \u001b[0;34m(\u001b[0m\u001b[0mdict\u001b[0m\u001b[0;34m,\u001b[0m \u001b[0mproto\u001b[0m\u001b[0;34m,\u001b[0m \u001b[0mmeth_name\u001b[0m\u001b[0;34m)\u001b[0m \u001b[0;34m+\u001b[0m \u001b[0margs\u001b[0m\u001b[0;34m\u001b[0m\u001b[0;34m\u001b[0m\u001b[0m\n\u001b[0;32m--> 564\u001b[0;31m         \u001b[0mresult\u001b[0m \u001b[0;34m=\u001b[0m \u001b[0mself\u001b[0m\u001b[0;34m.\u001b[0m\u001b[0m_call_chain\u001b[0m\u001b[0;34m(\u001b[0m\u001b[0;34m*\u001b[0m\u001b[0margs\u001b[0m\u001b[0;34m)\u001b[0m\u001b[0;34m\u001b[0m\u001b[0;34m\u001b[0m\u001b[0m\n\u001b[0m\u001b[1;32m    565\u001b[0m         \u001b[0;32mif\u001b[0m \u001b[0mresult\u001b[0m\u001b[0;34m:\u001b[0m\u001b[0;34m\u001b[0m\u001b[0;34m\u001b[0m\u001b[0m\n\u001b[1;32m    566\u001b[0m             \u001b[0;32mreturn\u001b[0m \u001b[0mresult\u001b[0m\u001b[0;34m\u001b[0m\u001b[0;34m\u001b[0m\u001b[0m\n",
            "\u001b[0;32m/usr/lib/python3.6/urllib/request.py\u001b[0m in \u001b[0;36m_call_chain\u001b[0;34m(self, chain, kind, meth_name, *args)\u001b[0m\n\u001b[1;32m    502\u001b[0m         \u001b[0;32mfor\u001b[0m \u001b[0mhandler\u001b[0m \u001b[0;32min\u001b[0m \u001b[0mhandlers\u001b[0m\u001b[0;34m:\u001b[0m\u001b[0;34m\u001b[0m\u001b[0;34m\u001b[0m\u001b[0m\n\u001b[1;32m    503\u001b[0m             \u001b[0mfunc\u001b[0m \u001b[0;34m=\u001b[0m \u001b[0mgetattr\u001b[0m\u001b[0;34m(\u001b[0m\u001b[0mhandler\u001b[0m\u001b[0;34m,\u001b[0m \u001b[0mmeth_name\u001b[0m\u001b[0;34m)\u001b[0m\u001b[0;34m\u001b[0m\u001b[0;34m\u001b[0m\u001b[0m\n\u001b[0;32m--> 504\u001b[0;31m             \u001b[0mresult\u001b[0m \u001b[0;34m=\u001b[0m \u001b[0mfunc\u001b[0m\u001b[0;34m(\u001b[0m\u001b[0;34m*\u001b[0m\u001b[0margs\u001b[0m\u001b[0;34m)\u001b[0m\u001b[0;34m\u001b[0m\u001b[0;34m\u001b[0m\u001b[0m\n\u001b[0m\u001b[1;32m    505\u001b[0m             \u001b[0;32mif\u001b[0m \u001b[0mresult\u001b[0m \u001b[0;32mis\u001b[0m \u001b[0;32mnot\u001b[0m \u001b[0;32mNone\u001b[0m\u001b[0;34m:\u001b[0m\u001b[0;34m\u001b[0m\u001b[0;34m\u001b[0m\u001b[0m\n\u001b[1;32m    506\u001b[0m                 \u001b[0;32mreturn\u001b[0m \u001b[0mresult\u001b[0m\u001b[0;34m\u001b[0m\u001b[0;34m\u001b[0m\u001b[0m\n",
            "\u001b[0;32m/usr/lib/python3.6/urllib/request.py\u001b[0m in \u001b[0;36mhttp_error_302\u001b[0;34m(self, req, fp, code, msg, headers)\u001b[0m\n\u001b[1;32m    754\u001b[0m         \u001b[0mfp\u001b[0m\u001b[0;34m.\u001b[0m\u001b[0mclose\u001b[0m\u001b[0;34m(\u001b[0m\u001b[0;34m)\u001b[0m\u001b[0;34m\u001b[0m\u001b[0;34m\u001b[0m\u001b[0m\n\u001b[1;32m    755\u001b[0m \u001b[0;34m\u001b[0m\u001b[0m\n\u001b[0;32m--> 756\u001b[0;31m         \u001b[0;32mreturn\u001b[0m \u001b[0mself\u001b[0m\u001b[0;34m.\u001b[0m\u001b[0mparent\u001b[0m\u001b[0;34m.\u001b[0m\u001b[0mopen\u001b[0m\u001b[0;34m(\u001b[0m\u001b[0mnew\u001b[0m\u001b[0;34m,\u001b[0m \u001b[0mtimeout\u001b[0m\u001b[0;34m=\u001b[0m\u001b[0mreq\u001b[0m\u001b[0;34m.\u001b[0m\u001b[0mtimeout\u001b[0m\u001b[0;34m)\u001b[0m\u001b[0;34m\u001b[0m\u001b[0;34m\u001b[0m\u001b[0m\n\u001b[0m\u001b[1;32m    757\u001b[0m \u001b[0;34m\u001b[0m\u001b[0m\n\u001b[1;32m    758\u001b[0m     \u001b[0mhttp_error_301\u001b[0m \u001b[0;34m=\u001b[0m \u001b[0mhttp_error_303\u001b[0m \u001b[0;34m=\u001b[0m \u001b[0mhttp_error_307\u001b[0m \u001b[0;34m=\u001b[0m \u001b[0mhttp_error_302\u001b[0m\u001b[0;34m\u001b[0m\u001b[0;34m\u001b[0m\u001b[0m\n",
            "\u001b[0;32m/usr/lib/python3.6/urllib/request.py\u001b[0m in \u001b[0;36mopen\u001b[0;34m(self, fullurl, data, timeout)\u001b[0m\n\u001b[1;32m    530\u001b[0m         \u001b[0;32mfor\u001b[0m \u001b[0mprocessor\u001b[0m \u001b[0;32min\u001b[0m \u001b[0mself\u001b[0m\u001b[0;34m.\u001b[0m\u001b[0mprocess_response\u001b[0m\u001b[0;34m.\u001b[0m\u001b[0mget\u001b[0m\u001b[0;34m(\u001b[0m\u001b[0mprotocol\u001b[0m\u001b[0;34m,\u001b[0m \u001b[0;34m[\u001b[0m\u001b[0;34m]\u001b[0m\u001b[0;34m)\u001b[0m\u001b[0;34m:\u001b[0m\u001b[0;34m\u001b[0m\u001b[0;34m\u001b[0m\u001b[0m\n\u001b[1;32m    531\u001b[0m             \u001b[0mmeth\u001b[0m \u001b[0;34m=\u001b[0m \u001b[0mgetattr\u001b[0m\u001b[0;34m(\u001b[0m\u001b[0mprocessor\u001b[0m\u001b[0;34m,\u001b[0m \u001b[0mmeth_name\u001b[0m\u001b[0;34m)\u001b[0m\u001b[0;34m\u001b[0m\u001b[0;34m\u001b[0m\u001b[0m\n\u001b[0;32m--> 532\u001b[0;31m             \u001b[0mresponse\u001b[0m \u001b[0;34m=\u001b[0m \u001b[0mmeth\u001b[0m\u001b[0;34m(\u001b[0m\u001b[0mreq\u001b[0m\u001b[0;34m,\u001b[0m \u001b[0mresponse\u001b[0m\u001b[0;34m)\u001b[0m\u001b[0;34m\u001b[0m\u001b[0;34m\u001b[0m\u001b[0m\n\u001b[0m\u001b[1;32m    533\u001b[0m \u001b[0;34m\u001b[0m\u001b[0m\n\u001b[1;32m    534\u001b[0m         \u001b[0;32mreturn\u001b[0m \u001b[0mresponse\u001b[0m\u001b[0;34m\u001b[0m\u001b[0;34m\u001b[0m\u001b[0m\n",
            "\u001b[0;32m/usr/lib/python3.6/urllib/request.py\u001b[0m in \u001b[0;36mhttp_response\u001b[0;34m(self, request, response)\u001b[0m\n\u001b[1;32m    640\u001b[0m         \u001b[0;32mif\u001b[0m \u001b[0;32mnot\u001b[0m \u001b[0;34m(\u001b[0m\u001b[0;36m200\u001b[0m \u001b[0;34m<=\u001b[0m \u001b[0mcode\u001b[0m \u001b[0;34m<\u001b[0m \u001b[0;36m300\u001b[0m\u001b[0;34m)\u001b[0m\u001b[0;34m:\u001b[0m\u001b[0;34m\u001b[0m\u001b[0;34m\u001b[0m\u001b[0m\n\u001b[1;32m    641\u001b[0m             response = self.parent.error(\n\u001b[0;32m--> 642\u001b[0;31m                 'http', request, response, code, msg, hdrs)\n\u001b[0m\u001b[1;32m    643\u001b[0m \u001b[0;34m\u001b[0m\u001b[0m\n\u001b[1;32m    644\u001b[0m         \u001b[0;32mreturn\u001b[0m \u001b[0mresponse\u001b[0m\u001b[0;34m\u001b[0m\u001b[0;34m\u001b[0m\u001b[0m\n",
            "\u001b[0;32m/usr/lib/python3.6/urllib/request.py\u001b[0m in \u001b[0;36merror\u001b[0;34m(self, proto, *args)\u001b[0m\n\u001b[1;32m    568\u001b[0m         \u001b[0;32mif\u001b[0m \u001b[0mhttp_err\u001b[0m\u001b[0;34m:\u001b[0m\u001b[0;34m\u001b[0m\u001b[0;34m\u001b[0m\u001b[0m\n\u001b[1;32m    569\u001b[0m             \u001b[0margs\u001b[0m \u001b[0;34m=\u001b[0m \u001b[0;34m(\u001b[0m\u001b[0mdict\u001b[0m\u001b[0;34m,\u001b[0m \u001b[0;34m'default'\u001b[0m\u001b[0;34m,\u001b[0m \u001b[0;34m'http_error_default'\u001b[0m\u001b[0;34m)\u001b[0m \u001b[0;34m+\u001b[0m \u001b[0morig_args\u001b[0m\u001b[0;34m\u001b[0m\u001b[0;34m\u001b[0m\u001b[0m\n\u001b[0;32m--> 570\u001b[0;31m             \u001b[0;32mreturn\u001b[0m \u001b[0mself\u001b[0m\u001b[0;34m.\u001b[0m\u001b[0m_call_chain\u001b[0m\u001b[0;34m(\u001b[0m\u001b[0;34m*\u001b[0m\u001b[0margs\u001b[0m\u001b[0;34m)\u001b[0m\u001b[0;34m\u001b[0m\u001b[0;34m\u001b[0m\u001b[0m\n\u001b[0m\u001b[1;32m    571\u001b[0m \u001b[0;34m\u001b[0m\u001b[0m\n\u001b[1;32m    572\u001b[0m \u001b[0;31m# XXX probably also want an abstract factory that knows when it makes\u001b[0m\u001b[0;34m\u001b[0m\u001b[0;34m\u001b[0m\u001b[0;34m\u001b[0m\u001b[0m\n",
            "\u001b[0;32m/usr/lib/python3.6/urllib/request.py\u001b[0m in \u001b[0;36m_call_chain\u001b[0;34m(self, chain, kind, meth_name, *args)\u001b[0m\n\u001b[1;32m    502\u001b[0m         \u001b[0;32mfor\u001b[0m \u001b[0mhandler\u001b[0m \u001b[0;32min\u001b[0m \u001b[0mhandlers\u001b[0m\u001b[0;34m:\u001b[0m\u001b[0;34m\u001b[0m\u001b[0;34m\u001b[0m\u001b[0m\n\u001b[1;32m    503\u001b[0m             \u001b[0mfunc\u001b[0m \u001b[0;34m=\u001b[0m \u001b[0mgetattr\u001b[0m\u001b[0;34m(\u001b[0m\u001b[0mhandler\u001b[0m\u001b[0;34m,\u001b[0m \u001b[0mmeth_name\u001b[0m\u001b[0;34m)\u001b[0m\u001b[0;34m\u001b[0m\u001b[0;34m\u001b[0m\u001b[0m\n\u001b[0;32m--> 504\u001b[0;31m             \u001b[0mresult\u001b[0m \u001b[0;34m=\u001b[0m \u001b[0mfunc\u001b[0m\u001b[0;34m(\u001b[0m\u001b[0;34m*\u001b[0m\u001b[0margs\u001b[0m\u001b[0;34m)\u001b[0m\u001b[0;34m\u001b[0m\u001b[0;34m\u001b[0m\u001b[0m\n\u001b[0m\u001b[1;32m    505\u001b[0m             \u001b[0;32mif\u001b[0m \u001b[0mresult\u001b[0m \u001b[0;32mis\u001b[0m \u001b[0;32mnot\u001b[0m \u001b[0;32mNone\u001b[0m\u001b[0;34m:\u001b[0m\u001b[0;34m\u001b[0m\u001b[0;34m\u001b[0m\u001b[0m\n\u001b[1;32m    506\u001b[0m                 \u001b[0;32mreturn\u001b[0m \u001b[0mresult\u001b[0m\u001b[0;34m\u001b[0m\u001b[0;34m\u001b[0m\u001b[0m\n",
            "\u001b[0;32m/usr/lib/python3.6/urllib/request.py\u001b[0m in \u001b[0;36mhttp_error_default\u001b[0;34m(self, req, fp, code, msg, hdrs)\u001b[0m\n\u001b[1;32m    648\u001b[0m \u001b[0;32mclass\u001b[0m \u001b[0mHTTPDefaultErrorHandler\u001b[0m\u001b[0;34m(\u001b[0m\u001b[0mBaseHandler\u001b[0m\u001b[0;34m)\u001b[0m\u001b[0;34m:\u001b[0m\u001b[0;34m\u001b[0m\u001b[0;34m\u001b[0m\u001b[0m\n\u001b[1;32m    649\u001b[0m     \u001b[0;32mdef\u001b[0m \u001b[0mhttp_error_default\u001b[0m\u001b[0;34m(\u001b[0m\u001b[0mself\u001b[0m\u001b[0;34m,\u001b[0m \u001b[0mreq\u001b[0m\u001b[0;34m,\u001b[0m \u001b[0mfp\u001b[0m\u001b[0;34m,\u001b[0m \u001b[0mcode\u001b[0m\u001b[0;34m,\u001b[0m \u001b[0mmsg\u001b[0m\u001b[0;34m,\u001b[0m \u001b[0mhdrs\u001b[0m\u001b[0;34m)\u001b[0m\u001b[0;34m:\u001b[0m\u001b[0;34m\u001b[0m\u001b[0;34m\u001b[0m\u001b[0m\n\u001b[0;32m--> 650\u001b[0;31m         \u001b[0;32mraise\u001b[0m \u001b[0mHTTPError\u001b[0m\u001b[0;34m(\u001b[0m\u001b[0mreq\u001b[0m\u001b[0;34m.\u001b[0m\u001b[0mfull_url\u001b[0m\u001b[0;34m,\u001b[0m \u001b[0mcode\u001b[0m\u001b[0;34m,\u001b[0m \u001b[0mmsg\u001b[0m\u001b[0;34m,\u001b[0m \u001b[0mhdrs\u001b[0m\u001b[0;34m,\u001b[0m \u001b[0mfp\u001b[0m\u001b[0;34m)\u001b[0m\u001b[0;34m\u001b[0m\u001b[0;34m\u001b[0m\u001b[0m\n\u001b[0m\u001b[1;32m    651\u001b[0m \u001b[0;34m\u001b[0m\u001b[0m\n\u001b[1;32m    652\u001b[0m \u001b[0;32mclass\u001b[0m \u001b[0mHTTPRedirectHandler\u001b[0m\u001b[0;34m(\u001b[0m\u001b[0mBaseHandler\u001b[0m\u001b[0;34m)\u001b[0m\u001b[0;34m:\u001b[0m\u001b[0;34m\u001b[0m\u001b[0;34m\u001b[0m\u001b[0m\n",
            "\u001b[0;31mHTTPError\u001b[0m: HTTP Error 410: Gone"
          ]
        }
      ]
    },
    {
      "cell_type": "markdown",
      "metadata": {
        "id": "HxiV-ksMV7af",
        "colab_type": "text"
      },
      "source": [
        "### Prediction"
      ]
    },
    {
      "cell_type": "code",
      "metadata": {
        "id": "OsentnpzV60x",
        "colab_type": "code",
        "colab": {}
      },
      "source": [
        ""
      ],
      "execution_count": 0,
      "outputs": []
    },
    {
      "cell_type": "markdown",
      "metadata": {
        "id": "X6rzVZxzjPsC",
        "colab_type": "text"
      },
      "source": [
        "### TODO: Implement Triplet Loss"
      ]
    },
    {
      "cell_type": "markdown",
      "metadata": {
        "id": "W9Fs4t4JX4Ur",
        "colab_type": "text"
      },
      "source": [
        "https://en.wikipedia.org/wiki/Triplet_loss"
      ]
    },
    {
      "cell_type": "code",
      "metadata": {
        "id": "l3EL8x34iANt",
        "colab_type": "code",
        "colab": {}
      },
      "source": [
        "def triplet_loss(triplet, label):\n",
        "  \n"
      ],
      "execution_count": 0,
      "outputs": []
    },
    {
      "cell_type": "code",
      "metadata": {
        "id": "7GLbHD2hiybe",
        "colab_type": "code",
        "colab": {}
      },
      "source": [
        "trax.layers.CrossEntropyLoss()"
      ],
      "execution_count": 0,
      "outputs": []
    },
    {
      "cell_type": "markdown",
      "metadata": {
        "id": "Apn2qckjbrGW",
        "colab_type": "text"
      },
      "source": [
        "## Reformer Model"
      ]
    },
    {
      "cell_type": "code",
      "metadata": {
        "id": "rQBN5UgpbqlD",
        "colab_type": "code",
        "colab": {}
      },
      "source": [
        "!gsutil cp gs://trax-ml/reformer/config.gin ./config.gin\n",
        "gin.parse_config_file('./config.gin')"
      ],
      "execution_count": 0,
      "outputs": []
    }
  ]
}